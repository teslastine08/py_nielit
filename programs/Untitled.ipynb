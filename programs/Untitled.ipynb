{
 "cells": [
  {
   "cell_type": "code",
   "execution_count": 13,
   "metadata": {},
   "outputs": [
    {
     "name": "stdout",
     "output_type": "stream",
     "text": [
      "enter the no.: 5\n",
      "factorial of the no: \n"
     ]
    }
   ],
   "source": [
    "r=1\n",
    "def factorial(f):\n",
    "    if f==0:\n",
    "       r=1 \n",
    "    else:\n",
    "        r=f*factorial(f-1)\n",
    "    return(r)\n",
    "num=int(input(\"enter the no.: \"))\n",
    "print(\"factorial of the no: \".format(num,factorial(num)))\n"
   ]
  },
  {
   "cell_type": "code",
   "execution_count": 14,
   "metadata": {},
   "outputs": [
    {
     "name": "stdout",
     "output_type": "stream",
     "text": [
      "<_io.BufferedReader name='C:/Users/Ankan Sinha/Desktop/grayscaleDJ.png'>\n"
     ]
    }
   ],
   "source": [
    "fh=open(\"C:/Users/Ankan Sinha/Desktop/grayscaleDJ.png\",'rb')\n",
    "print(fh)\n"
   ]
  },
  {
   "cell_type": "code",
   "execution_count": null,
   "metadata": {},
   "outputs": [],
   "source": [
    "fh=open(\"C:/Users/Ankan Sinha/Desktop/grayscaleDJ.png\",'rb')\n",
    "print(fh.read())"
   ]
  },
  {
   "cell_type": "code",
   "execution_count": null,
   "metadata": {},
   "outputs": [],
   "source": [
    "import winsound\n",
    "for i in range(3000:4000:500):\n",
    "    winsound.Beep(i,200)\n",
    "    break"
   ]
  },
  {
   "cell_type": "code",
   "execution_count": 4,
   "metadata": {},
   "outputs": [],
   "source": [
    "import winsound\n",
    "winsound.Beep(5000,1000)\n",
    "winsound.Beep(6000,1000)\n",
    "winsound.Beep(7000,1000)\n",
    "winsound.Beep(8000,1000)\n",
    "winsound.Beep(9000,1000)\n",
    "winsound.Beep(5000,1000)\n",
    "winsound.Beep(6000,1000)\n",
    "winsound.Beep(7000,1000)\n",
    "winsound.Beep(8000,1000)\n",
    "winsound.Beep(9000,1000)\n",
    "winsound.Beep(5000,1000)\n",
    "winsound.Beep(6000,1000)\n",
    "winsound.Beep(7000,1000)\n",
    "winsound.Beep(8000,1000)\n",
    "winsound.Beep(9000,1000)\n",
    "winsound.Beep(5000,1000)\n",
    "winsound.Beep(6000,1000)\n",
    "winsound.Beep(7000,1000)\n",
    "winsound.Beep(8000,1000)\n",
    "winsound.Beep(9000,1000)\n",
    "winsound.Beep(5000,1000)\n",
    "winsound.Beep(6000,1000)\n",
    "winsound.Beep(7000,1000)\n",
    "winsound.Beep(8000,1000)\n",
    "winsound.Beep(9000,1000)\n",
    "winsound.Beep(5000,1000)\n",
    "winsound.Beep(6000,1000)\n",
    "winsound.Beep(7000,1000)\n",
    "winsound.Beep(8000,1000)\n",
    "winsound.Beep(9000,1000)"
   ]
  },
  {
   "cell_type": "code",
   "execution_count": null,
   "metadata": {},
   "outputs": [],
   "source": []
  }
 ],
 "metadata": {
  "kernelspec": {
   "display_name": "Python 3",
   "language": "python",
   "name": "python3"
  },
  "language_info": {
   "codemirror_mode": {
    "name": "ipython",
    "version": 3
   },
   "file_extension": ".py",
   "mimetype": "text/x-python",
   "name": "python",
   "nbconvert_exporter": "python",
   "pygments_lexer": "ipython3",
   "version": "3.7.1"
  }
 },
 "nbformat": 4,
 "nbformat_minor": 2
}
